{
 "cells": [
  {
   "cell_type": "code",
   "execution_count": 1,
   "id": "50d6133a-1773-426d-bba3-dcd51f10b9de",
   "metadata": {},
   "outputs": [],
   "source": [
    "import pandas as pd\n",
    "import yfinance as yf"
   ]
  },
  {
   "cell_type": "code",
   "execution_count": 7,
   "id": "94586c1b-89c9-4685-b705-6bd57d6deee8",
   "metadata": {},
   "outputs": [],
   "source": [
    "ticker = ['^nsei','pfc.ns','tcs.ns','irctc.ns','adanient.ns','adaniports.ns']"
   ]
  },
  {
   "cell_type": "code",
   "execution_count": 8,
   "id": "2a6ea75c-44a2-4864-89d2-e569e0e58019",
   "metadata": {},
   "outputs": [
    {
     "name": "stdout",
     "output_type": "stream",
     "text": [
      "[*********************100%***********************]  6 of 6 completed\n"
     ]
    }
   ],
   "source": [
    "df = yf.download(ticker,period=\"1y\")['Adj Close'].pct_change()"
   ]
  },
  {
   "cell_type": "code",
   "execution_count": 9,
   "id": "72d472fa-f200-4776-9c90-442a646d0fc2",
   "metadata": {},
   "outputs": [],
   "source": [
    "def beta_calc(ticker,df):\n",
    "    list_beta = []\n",
    "    cov = df.cov()\n",
    "    var = df['^NSEI'].var()\n",
    "    for k in range(1,len(ticker)):\n",
    "        beta = cov.loc[ticker[k].upper(),'^NSEI']/var\n",
    "        list_beta.append([ticker[k],beta])\n",
    "    df = pd.DataFrame(list_beta)\n",
    "    df.rename(columns = {0:'stocks',1:'beta'},inplace=True)\n",
    "    return df"
   ]
  },
  {
   "cell_type": "code",
   "execution_count": 10,
   "id": "aec4da70-06fe-4b0d-9f79-86319b1b1b4c",
   "metadata": {},
   "outputs": [],
   "source": [
    "x = beta_calc(ticker,df)"
   ]
  },
  {
   "cell_type": "code",
   "execution_count": 11,
   "id": "76db2d10-dc37-482e-89e8-2ddb4aab0da6",
   "metadata": {},
   "outputs": [
    {
     "data": {
      "text/html": [
       "<div>\n",
       "<style scoped>\n",
       "    .dataframe tbody tr th:only-of-type {\n",
       "        vertical-align: middle;\n",
       "    }\n",
       "\n",
       "    .dataframe tbody tr th {\n",
       "        vertical-align: top;\n",
       "    }\n",
       "\n",
       "    .dataframe thead th {\n",
       "        text-align: right;\n",
       "    }\n",
       "</style>\n",
       "<table border=\"1\" class=\"dataframe\">\n",
       "  <thead>\n",
       "    <tr style=\"text-align: right;\">\n",
       "      <th></th>\n",
       "      <th>stocks</th>\n",
       "      <th>beta</th>\n",
       "    </tr>\n",
       "  </thead>\n",
       "  <tbody>\n",
       "    <tr>\n",
       "      <th>0</th>\n",
       "      <td>pfc.ns</td>\n",
       "      <td>1.106883</td>\n",
       "    </tr>\n",
       "    <tr>\n",
       "      <th>1</th>\n",
       "      <td>tcs.ns</td>\n",
       "      <td>0.604842</td>\n",
       "    </tr>\n",
       "    <tr>\n",
       "      <th>2</th>\n",
       "      <td>irctc.ns</td>\n",
       "      <td>1.077598</td>\n",
       "    </tr>\n",
       "    <tr>\n",
       "      <th>3</th>\n",
       "      <td>adanient.ns</td>\n",
       "      <td>1.394983</td>\n",
       "    </tr>\n",
       "    <tr>\n",
       "      <th>4</th>\n",
       "      <td>adaniports.ns</td>\n",
       "      <td>1.351613</td>\n",
       "    </tr>\n",
       "  </tbody>\n",
       "</table>\n",
       "</div>"
      ],
      "text/plain": [
       "          stocks      beta\n",
       "0         pfc.ns  1.106883\n",
       "1         tcs.ns  0.604842\n",
       "2       irctc.ns  1.077598\n",
       "3    adanient.ns  1.394983\n",
       "4  adaniports.ns  1.351613"
      ]
     },
     "execution_count": 11,
     "metadata": {},
     "output_type": "execute_result"
    }
   ],
   "source": [
    "x"
   ]
  },
  {
   "cell_type": "code",
   "execution_count": null,
   "id": "3786ad53-1472-47d0-a24d-38e5f838ed0a",
   "metadata": {},
   "outputs": [],
   "source": []
  },
  {
   "cell_type": "code",
   "execution_count": null,
   "id": "5714a661-bd5f-44d9-82ac-1f82d9ae7ec2",
   "metadata": {},
   "outputs": [],
   "source": []
  }
 ],
 "metadata": {
  "kernelspec": {
   "display_name": "Python 3 (ipykernel)",
   "language": "python",
   "name": "python3"
  },
  "language_info": {
   "codemirror_mode": {
    "name": "ipython",
    "version": 3
   },
   "file_extension": ".py",
   "mimetype": "text/x-python",
   "name": "python",
   "nbconvert_exporter": "python",
   "pygments_lexer": "ipython3",
   "version": "3.7.3"
  }
 },
 "nbformat": 4,
 "nbformat_minor": 5
}
